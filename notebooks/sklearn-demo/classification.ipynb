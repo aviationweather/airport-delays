{
 "cells": [
  {
   "cell_type": "code",
   "execution_count": 1,
   "metadata": {
    "collapsed": true
   },
   "outputs": [],
   "source": [
    "import sys   \n",
    "sys.path.append('../../src/data')\n",
    "import query_flights as query\n",
    "path_to_db = \"sqlite:///../../data/processed/airlines.db\""
   ]
  },
  {
   "cell_type": "code",
   "execution_count": 2,
   "metadata": {
    "collapsed": true
   },
   "outputs": [],
   "source": [
    "# Get Flights For A"
   ]
  },
  {
   "cell_type": "code",
   "execution_count": 4,
   "metadata": {},
   "outputs": [
    {
     "data": {
      "text/html": [
       "<div>\n",
       "<style>\n",
       "    .dataframe thead tr:only-child th {\n",
       "        text-align: right;\n",
       "    }\n",
       "\n",
       "    .dataframe thead th {\n",
       "        text-align: left;\n",
       "    }\n",
       "\n",
       "    .dataframe tbody tr th {\n",
       "        vertical-align: top;\n",
       "    }\n",
       "</style>\n",
       "<table border=\"1\" class=\"dataframe\">\n",
       "  <thead>\n",
       "    <tr style=\"text-align: right;\">\n",
       "      <th></th>\n",
       "      <th>airport</th>\n",
       "      <th>display_airport_name</th>\n",
       "      <th>station</th>\n",
       "      <th>date</th>\n",
       "      <th>latitude</th>\n",
       "      <th>longitude</th>\n",
       "      <th>hourly_visibility</th>\n",
       "      <th>hourly_dry_bulb_temp_f</th>\n",
       "      <th>hourly_precipitation</th>\n",
       "      <th>hourly_wind_speed</th>\n",
       "      <th>hourly_wind_gust_speed</th>\n",
       "      <th>hourly_station_pressure</th>\n",
       "    </tr>\n",
       "  </thead>\n",
       "  <tbody>\n",
       "  </tbody>\n",
       "</table>\n",
       "</div>"
      ],
      "text/plain": [
       "Empty DataFrame\n",
       "Columns: [airport, display_airport_name, station, date, latitude, longitude, hourly_visibility, hourly_dry_bulb_temp_f, hourly_precipitation, hourly_wind_speed, hourly_wind_gust_speed, hourly_station_pressure]\n",
       "Index: []"
      ]
     },
     "execution_count": 4,
     "metadata": {},
     "output_type": "execute_result"
    }
   ],
   "source": [
    "# get_features.py\n",
    "import pandas as pd\n",
    "from datetime import date\n",
    "from sqlalchemy import create_engine\n",
    "\n",
    "def query_flights_for_date_range(start_date=None, end_date=None, \n",
    "                               airport_code=None, path_to_db=None):\n",
    "    \"\"\"Retrieve recorded flight data for a given time range and airport\"\"\"\n",
    "    if start_date is None:\n",
    "        start_date = date(2017, 1, 1)\n",
    "    if end_date is None:\n",
    "        end_date = date(2017, 1, 31)\n",
    "    if airport_code is None:\n",
    "        airport_code = 'MDT'\n",
    "        \n",
    "    engine = create_engine(path_to_db)\n",
    "    with engine.connect() as conn:\n",
    "        flights = pd.read_sql(\"\"\"\n",
    "            SELECT \n",
    "                *\n",
    "            FROM \n",
    "                flights AS f\n",
    "            WHERE \n",
    "                f.Origin = :airport_code\n",
    "            AND\n",
    "                f.FlightDate \n",
    "            BETWEEN :start_date \n",
    "                AND :end_date\n",
    "        \"\"\", conn, \n",
    "        params={'start_date': start_date, 'end_date': end_date, 'airport_code': airport_code})\n",
    "    return flights\n",
    "\n",
    "def query_weather_for_date_range(start_date=None, end_date=None, \n",
    "                                 airport_code=None, path_to_db=None):\n",
    "    \"\"\"Retrieve recorded flight data for a given time range and airport\"\"\"\n",
    "    if start_date is None:\n",
    "        start_date = date(2017, 1, 1)\n",
    "    if end_date is None:\n",
    "        end_date = date(2017, 1, 31)\n",
    "    if airport_code is None:\n",
    "        airport_code = 'MDT'\n",
    "        \n",
    "    engine = create_engine(path_to_db)\n",
    "    with engine.connect() as conn:\n",
    "        flights = pd.read_sql(\"\"\"\n",
    "            SELECT \n",
    "                a.airport,\n",
    "                a.display_airport_name,\n",
    "                w.station,\n",
    "                w.date,\n",
    "                w.latitude,\n",
    "                w.longitude,\n",
    "                w.hourly_visibility,\n",
    "                w.hourly_dry_bulb_temp_f,\n",
    "                w.hourly_precipitation,\n",
    "                w.hourly_wind_speed,\n",
    "                w.hourly_wind_gust_speed,\n",
    "                w.hourly_station_pressure\n",
    "            FROM \n",
    "                weather AS w\n",
    "            JOIN \n",
    "                airports as a\n",
    "            ON a.int_latitude = w.int_latitude \n",
    "            AND a.int_longitude = w.int_longitude\n",
    "            WHERE \n",
    "                a.airport = :airport_code\n",
    "            AND \n",
    "                a.airport_is_latest == 1\n",
    "            AND\n",
    "                w.date \n",
    "            BETWEEN :start_date \n",
    "                AND :end_date\n",
    "        \"\"\", conn, \n",
    "        params={'start_date': start_date, 'end_date': end_date, 'airport_code': airport_code})\n",
    "    return flights\n",
    "\n",
    "def get_features_for_flight_analysis(start_date=None, end_date=None, \n",
    "                                     airport_code=None, path_to_db=None):\n",
    "    \"\"\"Build Features for Analysis of Flights\"\"\"\n",
    "    if start_date is None:\n",
    "        start_date = date(2017, 1, 1)\n",
    "    if end_date is None:\n",
    "        end_date = date(2017, 1, 31)\n",
    "    if airport_code is None:\n",
    "        airport_code = 'MDT'\n",
    "    \n",
    "    # Get Flights For \n",
    "    #flights = query_flights_for_date_range(start_date, end_date, airport_code, path_to_db)\n",
    "    \n",
    "    # Get Hourly Summaries Of Airport\n",
    "    # Get Hourly Summaries of Weather\n",
    "    weather = query_weather_for_date_range(start_date, end_date, airport_code, path_to_db)\n",
    "    \n",
    "    # Extract datetime object to the hour\n",
    "\n",
    "    return weather\n",
    "\n",
    "flights = get_features_for_flight_analysis(path_to_db=path_to_db)\n",
    "flights.head()"
   ]
  },
  {
   "cell_type": "code",
   "execution_count": null,
   "metadata": {
    "collapsed": true
   },
   "outputs": [],
   "source": []
  }
 ],
 "metadata": {
  "kernelspec": {
   "display_name": "Python 3",
   "language": "python",
   "name": "python3"
  },
  "language_info": {
   "codemirror_mode": {
    "name": "ipython",
    "version": 3
   },
   "file_extension": ".py",
   "mimetype": "text/x-python",
   "name": "python",
   "nbconvert_exporter": "python",
   "pygments_lexer": "ipython3",
   "version": "3.6.3"
  }
 },
 "nbformat": 4,
 "nbformat_minor": 2
}
