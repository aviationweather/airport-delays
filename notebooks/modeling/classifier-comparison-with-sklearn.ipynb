{
 "cells": [
  {
   "cell_type": "code",
   "execution_count": 1,
   "metadata": {},
   "outputs": [
    {
     "name": "stdout",
     "output_type": "stream",
     "text": [
      "<class 'pandas.core.frame.DataFrame'>\n",
      "RangeIndex: 74588 entries, 0 to 74587\n",
      "Data columns (total 25 columns):\n",
      "delayed                    74588 non-null int64\n",
      "month                      74588 non-null int64\n",
      "date                       74588 non-null int64\n",
      "hour_of_departure          74588 non-null int64\n",
      "flight_distance            74588 non-null int64\n",
      "elapsed_time               74588 non-null int64\n",
      "visibility                 74588 non-null float64\n",
      "temperature_f              74588 non-null float64\n",
      "percipitation              74588 non-null float64\n",
      "wind_speed                 74588 non-null float64\n",
      "gust_speed                 74588 non-null float64\n",
      "hourly_station_pressure    74588 non-null float64\n",
      "departure_airport_LAX      74588 non-null uint8\n",
      "departure_airport_MDT      74588 non-null uint8\n",
      "carrier_AS                 74588 non-null uint8\n",
      "carrier_B6                 74588 non-null uint8\n",
      "carrier_DL                 74588 non-null uint8\n",
      "carrier_EV                 74588 non-null uint8\n",
      "carrier_F9                 74588 non-null uint8\n",
      "carrier_HA                 74588 non-null uint8\n",
      "carrier_NK                 74588 non-null uint8\n",
      "carrier_OO                 74588 non-null uint8\n",
      "carrier_UA                 74588 non-null uint8\n",
      "carrier_VX                 74588 non-null uint8\n",
      "carrier_WN                 74588 non-null uint8\n",
      "dtypes: float64(6), int64(6), uint8(13)\n",
      "memory usage: 7.8 MB\n"
     ]
    }
   ],
   "source": [
    "from sqlalchemy import create_engine\n",
    "import pandas as pd\n",
    "\n",
    "def query_features():\n",
    "    engine = create_engine('sqlite:///./../../data/processed/airlines.db')\n",
    "    \n",
    "    with engine.connect() as conn:\n",
    "        features = pd.read_sql(\n",
    "        \"\"\"\n",
    "        SELECT \n",
    "            f.departure_was_delayed_15 as delayed,\n",
    "            f.airport as departure_airport,\n",
    "            f.departure_month as month,\n",
    "            f.departure_date as date,\n",
    "            f.departure_hod as hour_of_departure,\n",
    "            f.carrier as carrier,\n",
    "            f.distance as flight_distance,\n",
    "            f.elapsed_time_scheduled as elapsed_time,\n",
    "            f.hourly_visibility as visibility,\n",
    "            f.hourly_dry_bulb_temp_f as temperature_f,\n",
    "            f.hourly_precipitation as percipitation,\n",
    "            f.hourly_wind_speed as wind_speed,\n",
    "            f.hourly_wind_gust_speed as gust_speed,\n",
    "            f.hourly_station_pressure\n",
    "        FROM \n",
    "            features AS f\n",
    "        \"\"\", \n",
    "        conn)\n",
    "    \n",
    "    for col in ['carrier', 'departure_airport']:\n",
    "        features[col] = features[col].astype('category')\n",
    "    \n",
    "    return pd.get_dummies(features, drop_first=True)\n",
    "\n",
    "# Get summary data for selected date range, counting flights delayed more than 15 minutes on departure\n",
    "features = query_features()\n",
    "features.info()"
   ]
  },
  {
   "cell_type": "code",
   "execution_count": 2,
   "metadata": {},
   "outputs": [],
   "source": [
    "y = features['delayed']\n",
    "X = features.drop('delayed', axis=1)"
   ]
  },
  {
   "cell_type": "code",
   "execution_count": 3,
   "metadata": {
    "collapsed": true
   },
   "outputs": [],
   "source": [
    "from sklearn.model_selection import GridSearchCV, train_test_split\n",
    "from sklearn.metrics import accuracy_score, classification_report\n",
    "from sklearn.pipeline import Pipeline\n",
    "\n",
    "def conduct_grid_search_and_report_metrics(X, y, param_grid, pipeline, scoring='accuracy', random_state=12):\n",
    "    \"\"\"Conducts a grid search with supplied parameters, reports out related metrics\"\"\"\n",
    "    X_train, X_test, y_train, y_test = train_test_split(X, y, test_size=0.33, random_state=random_state)\n",
    "    \n",
    "    # Create GridSearch, set the specififed \n",
    "    grid = GridSearchCV(pipeline, cv=5, n_jobs=1, param_grid=parameters, scoring=scoring)\n",
    "    \n",
    "    # Conduct Gridsearch\n",
    "    grid.fit(X=X_train, y=y_train)\n",
    "    \n",
    "    y_pred = grid.predict(X_test)\n",
    "    \n",
    "    print(f\"Scoring Methodology:\", scoring)\n",
    "    print(f\"         Best Score:\", grid.best_score_)\n",
    "    print(\"\")\n",
    "    print(\"Test Set Results \")\n",
    "    print(\"Accuracy:\", accuracy_score(y_pred=y_pred, y_true=y_test))\n",
    "    print(classification_report(y_pred=y_pred, y_true=y_test))\n",
    "    \n",
    "    print(grid.best_estimator_)\n",
    "    \n",
    "    # Return the fitted grid for use/inspection\n",
    "    return grid"
   ]
  },
  {
   "cell_type": "code",
   "execution_count": 12,
   "metadata": {},
   "outputs": [],
   "source": [
    "from sklearn.svm import SVC\n",
    "from sklearn.ensemble import RandomForestClassifier\n",
    "from sklearn.preprocessing import StandardScaler\n",
    "from sklearn.feature_selection import SelectKBest\n",
    "from sklearn.pipeline import Pipeline\n",
    "\n",
    "from sklearn.kernel_approximation import RBFSampler\n",
    "from sklearn.linear_model import SGDClassifier\n",
    "    \n",
    "parameters = [\n",
    "    {\n",
    "        'classify': [RandomForestClassifier()],\n",
    "        'classify__class_weight': ['balanced']\n",
    "    },\n",
    "    {\n",
    "        'approximate': [RBFSampler()],\n",
    "        'classify': [SGDClassifier()],\n",
    "        'classify__max_iter': [5],\n",
    "        'classify__class_weight': ['balanced']\n",
    "    }\n",
    "]\n",
    "\n",
    "pipeline = Pipeline([\n",
    "    ('scale', StandardScaler()),\n",
    "    ('select', SelectKBest()),\n",
    "    ('approximate', None),\n",
    "    ('classify', None)\n",
    "])"
   ]
  },
  {
   "cell_type": "code",
   "execution_count": 13,
   "metadata": {},
   "outputs": [
    {
     "name": "stdout",
     "output_type": "stream",
     "text": [
      "Scoring Methodology: accuracy\n",
      "         Best Score: 0.7529666019650612\n",
      "\n",
      "Test Set Results \n",
      "Accuracy: 0.7262644728823888\n",
      "             precision    recall  f1-score   support\n",
      "\n",
      "          0       0.84      0.80      0.82     19401\n",
      "          1       0.38      0.45      0.41      5214\n",
      "\n",
      "avg / total       0.75      0.73      0.73     24615\n",
      "\n",
      "Pipeline(memory=None,\n",
      "     steps=[('scale', StandardScaler(copy=True, with_mean=True, with_std=True)), ('select', SelectKBest(k=10, score_func=<function f_classif at 0x10b799d08>)), ('approximate', None), ('classify', RandomForestClassifier(bootstrap=True, class_weight='balanced',\n",
      "            criterion='gini', max_depth=None,...imators=10, n_jobs=1, oob_score=False, random_state=None,\n",
      "            verbose=0, warm_start=False))])\n"
     ]
    }
   ],
   "source": [
    "grid_accuracy = conduct_grid_search_and_report_metrics(X, y, parameters, pipeline, scoring='accuracy')"
   ]
  },
  {
   "cell_type": "code",
   "execution_count": 14,
   "metadata": {},
   "outputs": [
    {
     "name": "stdout",
     "output_type": "stream",
     "text": [
      "Scoring Methodology: f1\n",
      "         Best Score: 0.41416427361222696\n",
      "\n",
      "Test Set Results \n",
      "Accuracy: 0.723583180987203\n",
      "             precision    recall  f1-score   support\n",
      "\n",
      "          0       0.84      0.80      0.82     19401\n",
      "          1       0.37      0.45      0.41      5214\n",
      "\n",
      "avg / total       0.74      0.72      0.73     24615\n",
      "\n",
      "Pipeline(memory=None,\n",
      "     steps=[('scale', StandardScaler(copy=True, with_mean=True, with_std=True)), ('select', SelectKBest(k=10, score_func=<function f_classif at 0x10b799d08>)), ('approximate', None), ('classify', RandomForestClassifier(bootstrap=True, class_weight='balanced',\n",
      "            criterion='gini', max_depth=None,...imators=10, n_jobs=1, oob_score=False, random_state=None,\n",
      "            verbose=0, warm_start=False))])\n"
     ]
    }
   ],
   "source": [
    "grid_f1 = conduct_grid_search_and_report_metrics(X, y, parameters, pipeline, scoring='f1')"
   ]
  },
  {
   "cell_type": "code",
   "execution_count": 15,
   "metadata": {},
   "outputs": [
    {
     "name": "stdout",
     "output_type": "stream",
     "text": [
      "Scoring Methodology: f1_weighted\n",
      "         Best Score: 0.7558936998728272\n",
      "\n",
      "Test Set Results \n",
      "Accuracy: 0.7245988218565915\n",
      "             precision    recall  f1-score   support\n",
      "\n",
      "          0       0.84      0.80      0.82     19401\n",
      "          1       0.38      0.45      0.41      5214\n",
      "\n",
      "avg / total       0.74      0.72      0.73     24615\n",
      "\n",
      "Pipeline(memory=None,\n",
      "     steps=[('scale', StandardScaler(copy=True, with_mean=True, with_std=True)), ('select', SelectKBest(k=10, score_func=<function f_classif at 0x10b799d08>)), ('approximate', None), ('classify', RandomForestClassifier(bootstrap=True, class_weight='balanced',\n",
      "            criterion='gini', max_depth=None,...imators=10, n_jobs=1, oob_score=False, random_state=None,\n",
      "            verbose=0, warm_start=False))])\n"
     ]
    }
   ],
   "source": [
    "grid_f1_weighted = conduct_grid_search_and_report_metrics(X, y, parameters, pipeline, scoring='f1_weighted')"
   ]
  },
  {
   "cell_type": "code",
   "execution_count": 16,
   "metadata": {},
   "outputs": [
    {
     "name": "stdout",
     "output_type": "stream",
     "text": [
      "Scoring Methodology: roc_auc\n",
      "         Best Score: 0.6980126574054293\n",
      "\n",
      "Test Set Results \n",
      "Accuracy: 0.727320739386553\n",
      "             precision    recall  f1-score   support\n",
      "\n",
      "          0       0.84      0.80      0.82     19401\n",
      "          1       0.38      0.45      0.41      5214\n",
      "\n",
      "avg / total       0.75      0.73      0.74     24615\n",
      "\n",
      "Pipeline(memory=None,\n",
      "     steps=[('scale', StandardScaler(copy=True, with_mean=True, with_std=True)), ('select', SelectKBest(k=10, score_func=<function f_classif at 0x10b799d08>)), ('approximate', None), ('classify', RandomForestClassifier(bootstrap=True, class_weight='balanced',\n",
      "            criterion='gini', max_depth=None,...imators=10, n_jobs=1, oob_score=False, random_state=None,\n",
      "            verbose=0, warm_start=False))])\n"
     ]
    }
   ],
   "source": [
    "grid_roc_auc = conduct_grid_search_and_report_metrics(X, y, parameters, pipeline, scoring='roc_auc')"
   ]
  },
  {
   "cell_type": "code",
   "execution_count": null,
   "metadata": {
    "collapsed": true
   },
   "outputs": [],
   "source": []
  }
 ],
 "metadata": {
  "kernelspec": {
   "display_name": "Python 3",
   "language": "python",
   "name": "python3"
  },
  "language_info": {
   "codemirror_mode": {
    "name": "ipython",
    "version": 3
   },
   "file_extension": ".py",
   "mimetype": "text/x-python",
   "name": "python",
   "nbconvert_exporter": "python",
   "pygments_lexer": "ipython3",
   "version": "3.6.3"
  }
 },
 "nbformat": 4,
 "nbformat_minor": 2
}
