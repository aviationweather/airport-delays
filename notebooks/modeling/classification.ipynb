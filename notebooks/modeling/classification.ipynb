{
 "cells": [
  {
   "cell_type": "code",
   "execution_count": 1,
   "metadata": {
    "collapsed": true
   },
   "outputs": [],
   "source": [
    "import sys   \n",
    "sys.path.append('../../src/features')\n",
    "import build_features as feature_builder"
   ]
  },
  {
   "cell_type": "code",
   "execution_count": 5,
   "metadata": {
    "collapsed": true
   },
   "outputs": [],
   "source": [
    "from datetime import date\n",
    "\n",
    "start_date = date(2017, 1, 1)\n",
    "end_date = date(2017, 12, 31)\n",
    "airport_code = 'ATL'\n",
    "path_to_db = \"sqlite:///../../data/processed/airlines.db\"\n",
    "\n",
    "\n",
    "features = feature_builder.get_features_for_delay_classification(start_date, end_date, airport_code, path_to_db)"
   ]
  },
  {
   "cell_type": "code",
   "execution_count": 6,
   "metadata": {},
   "outputs": [
    {
     "data": {
      "text/html": [
       "<div>\n",
       "<style>\n",
       "    .dataframe thead tr:only-child th {\n",
       "        text-align: right;\n",
       "    }\n",
       "\n",
       "    .dataframe thead th {\n",
       "        text-align: left;\n",
       "    }\n",
       "\n",
       "    .dataframe tbody tr th {\n",
       "        vertical-align: top;\n",
       "    }\n",
       "</style>\n",
       "<table border=\"1\" class=\"dataframe\">\n",
       "  <thead>\n",
       "    <tr style=\"text-align: right;\">\n",
       "      <th></th>\n",
       "      <th>departure_was_delayed_15</th>\n",
       "      <th>origin</th>\n",
       "      <th>dest</th>\n",
       "      <th>carrier</th>\n",
       "      <th>departure_time_scheduled</th>\n",
       "      <th>distance</th>\n",
       "      <th>elapsed_time_scheduled</th>\n",
       "      <th>departure_time</th>\n",
       "      <th>departure_month</th>\n",
       "      <th>departure_date</th>\n",
       "      <th>...</th>\n",
       "      <th>departure_hod</th>\n",
       "      <th>airport</th>\n",
       "      <th>hourly_visibility</th>\n",
       "      <th>hourly_dry_bulb_temp_f</th>\n",
       "      <th>hourly_precipitation</th>\n",
       "      <th>hourly_wind_speed</th>\n",
       "      <th>hourly_wind_gust_speed</th>\n",
       "      <th>hourly_station_pressure</th>\n",
       "      <th>measurement_hour</th>\n",
       "      <th>m_hour_shifted</th>\n",
       "    </tr>\n",
       "  </thead>\n",
       "  <tbody>\n",
       "  </tbody>\n",
       "</table>\n",
       "<p>0 rows × 21 columns</p>\n",
       "</div>"
      ],
      "text/plain": [
       "Empty DataFrame\n",
       "Columns: [departure_was_delayed_15, origin, dest, carrier, departure_time_scheduled, distance, elapsed_time_scheduled, departure_time, departure_month, departure_date, departure_dow, departure_hod, airport, hourly_visibility, hourly_dry_bulb_temp_f, hourly_precipitation, hourly_wind_speed, hourly_wind_gust_speed, hourly_station_pressure, measurement_hour, m_hour_shifted]\n",
       "Index: []\n",
       "\n",
       "[0 rows x 21 columns]"
      ]
     },
     "execution_count": 6,
     "metadata": {},
     "output_type": "execute_result"
    }
   ],
   "source": [
    "features.head()"
   ]
  },
  {
   "cell_type": "code",
   "execution_count": 7,
   "metadata": {},
   "outputs": [
    {
     "name": "stdout",
     "output_type": "stream",
     "text": [
      "<class 'pandas.core.frame.DataFrame'>\n",
      "Index: 0 entries\n",
      "Data columns (total 21 columns):\n",
      "departure_was_delayed_15    0 non-null int64\n",
      "origin                      0 non-null object\n",
      "dest                        0 non-null object\n",
      "carrier                     0 non-null object\n",
      "departure_time_scheduled    0 non-null object\n",
      "distance                    0 non-null int64\n",
      "elapsed_time_scheduled      0 non-null int64\n",
      "departure_time              0 non-null datetime64[ns]\n",
      "departure_month             0 non-null int64\n",
      "departure_date              0 non-null int64\n",
      "departure_dow               0 non-null int64\n",
      "departure_hod               0 non-null int64\n",
      "airport                     0 non-null object\n",
      "hourly_visibility           0 non-null object\n",
      "hourly_dry_bulb_temp_f      0 non-null object\n",
      "hourly_precipitation        0 non-null object\n",
      "hourly_wind_speed           0 non-null object\n",
      "hourly_wind_gust_speed      0 non-null object\n",
      "hourly_station_pressure     0 non-null object\n",
      "measurement_hour            0 non-null object\n",
      "m_hour_shifted              0 non-null object\n",
      "dtypes: datetime64[ns](1), int64(7), object(13)\n",
      "memory usage: 0.0+ bytes\n"
     ]
    }
   ],
   "source": [
    "features.info()"
   ]
  },
  {
   "cell_type": "code",
   "execution_count": null,
   "metadata": {
    "collapsed": true
   },
   "outputs": [],
   "source": []
  }
 ],
 "metadata": {
  "kernelspec": {
   "display_name": "Python 3",
   "language": "python",
   "name": "python3"
  },
  "language_info": {
   "codemirror_mode": {
    "name": "ipython",
    "version": 3
   },
   "file_extension": ".py",
   "mimetype": "text/x-python",
   "name": "python",
   "nbconvert_exporter": "python",
   "pygments_lexer": "ipython3",
   "version": "3.6.3"
  }
 },
 "nbformat": 4,
 "nbformat_minor": 2
}
