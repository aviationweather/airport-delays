{
 "cells": [
  {
   "cell_type": "code",
   "execution_count": 1,
   "metadata": {
    "collapsed": true
   },
   "outputs": [],
   "source": [
    "# For query\n",
    "import sys   \n",
    "sys.path.append('../../src/data')\n",
    "import query_flights as query\n",
    "from datetime import date\n",
    "\n",
    "# Data Manipulation\n",
    "import pandas as pd\n",
    "import numpy as np\n",
    "\n",
    "# Visualization\n",
    "import matplotlib.pyplot as plt\n",
    "import seaborn as sns\n",
    "\n",
    "sns.set_style(\"whitegrid\")\n",
    "%matplotlib inline"
   ]
  },
  {
   "cell_type": "code",
   "execution_count": 2,
   "metadata": {},
   "outputs": [
    {
     "name": "stdout",
     "output_type": "stream",
     "text": [
      "airlines.db\r\n"
     ]
    }
   ],
   "source": [
    "ls ../../data/processed"
   ]
  },
  {
   "cell_type": "code",
   "execution_count": 3,
   "metadata": {
    "collapsed": true
   },
   "outputs": [],
   "source": [
    "path_to_db = \"sqlite:///../../data/processed/airlines.db\""
   ]
  },
  {
   "cell_type": "code",
   "execution_count": 4,
   "metadata": {
    "collapsed": true
   },
   "outputs": [],
   "source": [
    "import pandas as pd\n",
    "from datetime import date\n",
    "from sqlalchemy import create_engine\n",
    "import calendar\n",
    "\n",
    "def enhance_flights_by_day_of_week(data):\n",
    "    # Provide human readable names for Day of week\n",
    "    data['day_of_week'] = data['dow_int'].apply(lambda x: calendar.day_name[x - 1])\n",
    "    \n",
    "    # Calculate the fraction of the total flights that occured on a given day of the week\n",
    "    total_flights = sum(data['flight_count'])\n",
    "    data['fraction_of_total_flights'] = data['flight_count'] / total_flights\n",
    "    \n",
    "    data['daily_fraction_cancelled'] = data['cancelled_flights'] / data['flight_count']\n",
    "    data['daily_fraction_departure_delays'] = data['departure_delays'] / data['flight_count']\n",
    "    data['daily_fraction_arrival_delays'] = data['arrival_delays'] / data['flight_count']\n",
    "    return data\n",
    "\n",
    "def query_flights_by_day_of_week(start_date=None, end_date=None, path_to_db=None):\n",
    "  \n",
    "    # If no date constraints are provided, limit to one month of data\n",
    "    if start_date is None:\n",
    "        start_date = date(2017, 1, 1)\n",
    "    if end_date is None:\n",
    "        end_date = date(2017, 1, 31)\n",
    "        \n",
    "    engine = create_engine(path_to_db)\n",
    "    with engine.connect() as conn:\n",
    "        flights = pd.read_sql(\"\"\"\n",
    "            SELECT \n",
    "                f.day_of_week as dow_int,\n",
    "                sum(f.flights) as flight_count,\n",
    "                sum(f.departure_was_delayed_15) as departure_delays,\n",
    "                sum(f.arrival_was_delayed_15) as arrival_delays,\n",
    "                sum(f.cancelled) as cancelled_flights\n",
    "            FROM \n",
    "                flights AS f\n",
    "            WHERE\n",
    "                f.flight_date \n",
    "            BETWEEN :start_date \n",
    "                AND :end_date\n",
    "            GROUP BY \n",
    "                f.day_of_week\n",
    "        \"\"\", conn, \n",
    "        params={'start_date': start_date, 'end_date': end_date})\n",
    "    \n",
    "    return enhance_flights_by_day_of_week(flights)\n",
    "        \n",
    "start_date = date(2017, 1, 1)\n",
    "end_date = date(2017, 12, 31) \n",
    "flights = query_flights_by_day_of_week(start_date, end_date, path_to_db)  "
   ]
  },
  {
   "cell_type": "code",
   "execution_count": 5,
   "metadata": {},
   "outputs": [
    {
     "data": {
      "text/html": [
       "<div>\n",
       "<style>\n",
       "    .dataframe thead tr:only-child th {\n",
       "        text-align: right;\n",
       "    }\n",
       "\n",
       "    .dataframe thead th {\n",
       "        text-align: left;\n",
       "    }\n",
       "\n",
       "    .dataframe tbody tr th {\n",
       "        vertical-align: top;\n",
       "    }\n",
       "</style>\n",
       "<table border=\"1\" class=\"dataframe\">\n",
       "  <thead>\n",
       "    <tr style=\"text-align: right;\">\n",
       "      <th></th>\n",
       "      <th>dow_int</th>\n",
       "      <th>flight_count</th>\n",
       "      <th>departure_delays</th>\n",
       "      <th>arrival_delays</th>\n",
       "      <th>cancelled_flights</th>\n",
       "      <th>day_of_week</th>\n",
       "      <th>fraction_of_total_flights</th>\n",
       "      <th>daily_fraction_cancelled</th>\n",
       "      <th>daily_fraction_departure_delays</th>\n",
       "      <th>daily_fraction_arrival_delays</th>\n",
       "    </tr>\n",
       "  </thead>\n",
       "  <tbody>\n",
       "    <tr>\n",
       "      <th>0</th>\n",
       "      <td>1</td>\n",
       "      <td>839772</td>\n",
       "      <td>161766</td>\n",
       "      <td>164832</td>\n",
       "      <td>14844</td>\n",
       "      <td>Monday</td>\n",
       "      <td>0.148328</td>\n",
       "      <td>0.017676</td>\n",
       "      <td>0.192631</td>\n",
       "      <td>0.196282</td>\n",
       "    </tr>\n",
       "    <tr>\n",
       "      <th>1</th>\n",
       "      <td>2</td>\n",
       "      <td>819499</td>\n",
       "      <td>131343</td>\n",
       "      <td>133665</td>\n",
       "      <td>12892</td>\n",
       "      <td>Tuesday</td>\n",
       "      <td>0.144747</td>\n",
       "      <td>0.015732</td>\n",
       "      <td>0.160272</td>\n",
       "      <td>0.163106</td>\n",
       "    </tr>\n",
       "    <tr>\n",
       "      <th>2</th>\n",
       "      <td>3</td>\n",
       "      <td>830854</td>\n",
       "      <td>137687</td>\n",
       "      <td>141238</td>\n",
       "      <td>10469</td>\n",
       "      <td>Wednesday</td>\n",
       "      <td>0.146753</td>\n",
       "      <td>0.012600</td>\n",
       "      <td>0.165717</td>\n",
       "      <td>0.169991</td>\n",
       "    </tr>\n",
       "    <tr>\n",
       "      <th>3</th>\n",
       "      <td>4</td>\n",
       "      <td>841765</td>\n",
       "      <td>161306</td>\n",
       "      <td>165721</td>\n",
       "      <td>11599</td>\n",
       "      <td>Thursday</td>\n",
       "      <td>0.148680</td>\n",
       "      <td>0.013779</td>\n",
       "      <td>0.191628</td>\n",
       "      <td>0.196873</td>\n",
       "    </tr>\n",
       "    <tr>\n",
       "      <th>4</th>\n",
       "      <td>5</td>\n",
       "      <td>846443</td>\n",
       "      <td>171713</td>\n",
       "      <td>175540</td>\n",
       "      <td>12194</td>\n",
       "      <td>Friday</td>\n",
       "      <td>0.149506</td>\n",
       "      <td>0.014406</td>\n",
       "      <td>0.202864</td>\n",
       "      <td>0.207385</td>\n",
       "    </tr>\n",
       "    <tr>\n",
       "      <th>5</th>\n",
       "      <td>6</td>\n",
       "      <td>689412</td>\n",
       "      <td>110398</td>\n",
       "      <td>108849</td>\n",
       "      <td>9483</td>\n",
       "      <td>Saturday</td>\n",
       "      <td>0.121770</td>\n",
       "      <td>0.013755</td>\n",
       "      <td>0.160134</td>\n",
       "      <td>0.157887</td>\n",
       "    </tr>\n",
       "    <tr>\n",
       "      <th>6</th>\n",
       "      <td>7</td>\n",
       "      <td>793855</td>\n",
       "      <td>136433</td>\n",
       "      <td>136558</td>\n",
       "      <td>11128</td>\n",
       "      <td>Sunday</td>\n",
       "      <td>0.140217</td>\n",
       "      <td>0.014018</td>\n",
       "      <td>0.171861</td>\n",
       "      <td>0.172019</td>\n",
       "    </tr>\n",
       "  </tbody>\n",
       "</table>\n",
       "</div>"
      ],
      "text/plain": [
       "   dow_int  flight_count  departure_delays  arrival_delays  cancelled_flights  \\\n",
       "0        1        839772            161766          164832              14844   \n",
       "1        2        819499            131343          133665              12892   \n",
       "2        3        830854            137687          141238              10469   \n",
       "3        4        841765            161306          165721              11599   \n",
       "4        5        846443            171713          175540              12194   \n",
       "5        6        689412            110398          108849               9483   \n",
       "6        7        793855            136433          136558              11128   \n",
       "\n",
       "  day_of_week  fraction_of_total_flights  daily_fraction_cancelled  \\\n",
       "0      Monday                   0.148328                  0.017676   \n",
       "1     Tuesday                   0.144747                  0.015732   \n",
       "2   Wednesday                   0.146753                  0.012600   \n",
       "3    Thursday                   0.148680                  0.013779   \n",
       "4      Friday                   0.149506                  0.014406   \n",
       "5    Saturday                   0.121770                  0.013755   \n",
       "6      Sunday                   0.140217                  0.014018   \n",
       "\n",
       "   daily_fraction_departure_delays  daily_fraction_arrival_delays  \n",
       "0                         0.192631                       0.196282  \n",
       "1                         0.160272                       0.163106  \n",
       "2                         0.165717                       0.169991  \n",
       "3                         0.191628                       0.196873  \n",
       "4                         0.202864                       0.207385  \n",
       "5                         0.160134                       0.157887  \n",
       "6                         0.171861                       0.172019  "
      ]
     },
     "execution_count": 5,
     "metadata": {},
     "output_type": "execute_result"
    }
   ],
   "source": [
    "flights.head(8)"
   ]
  },
  {
   "cell_type": "code",
   "execution_count": 6,
   "metadata": {},
   "outputs": [
    {
     "data": {
      "image/png": "[encoded data removed]",
      "text/plain": [
       "<matplotlib.figure.Figure at 0x113d75fd0>"
      ]
     },
     "metadata": {},
     "output_type": "display_data"
    }
   ],
   "source": [
    "a4_dims = (16, 5)\n",
    "\n",
    "fig, (ax1, ax2) = plt.subplots(nrows=1, ncols=2, figsize=a4_dims)\n",
    "\n",
    "_ = sns.barplot(data=flights, x='day_of_week', y='flight_count', ax=ax1)\n",
    "_ = ax1.get_yaxis().set_major_formatter(plt.FuncFormatter(lambda x, loc: \"{:,}\".format(int(x))))\n",
    "_ = ax1.set_title('Recorded Departures By Day of Week (2017)')\n",
    "_ = ax1.set_xlabel('Day of Week')\n",
    "_ = ax1.set_ylabel('Total Departing Flights')\n",
    "\n",
    "_ = sns.barplot(data=flights, x='day_of_week', y='daily_fraction_departure_delays', ax=ax2)\n",
    "_ = ax2.get_yaxis().set_major_formatter(plt.FuncFormatter(lambda x, loc: f\"{round(x*100, 2)}%\"))\n",
    "_ = ax2.set_title('Percentage of Daily Flights Delayed On Departure (2017)')\n",
    "_ = ax2.set_xlabel('Day of Week')\n",
    "_ = ax2.set_ylabel('Percentage of Daily Flights Delayed')\n",
    "\n",
    "plt.savefig(\"../../reports/figures/departures-by-day-of-week.png\")\n",
    "\n",
    "plt.show()"
   ]
  },
  {
   "cell_type": "code",
   "execution_count": null,
   "metadata": {
    "collapsed": true
   },
   "outputs": [],
   "source": []
  }
 ],
 "metadata": {
  "kernelspec": {
   "display_name": "Python 3",
   "language": "python",
   "name": "python3"
  },
  "language_info": {
   "codemirror_mode": {
    "name": "ipython",
    "version": 3
   },
   "file_extension": ".py",
   "mimetype": "text/x-python",
   "name": "python",
   "nbconvert_exporter": "python",
   "pygments_lexer": "ipython3",
   "version": "3.6.3"
  }
 },
 "nbformat": 4,
 "nbformat_minor": 2
}
