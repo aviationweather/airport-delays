{
 "cells": [
  {
   "cell_type": "code",
   "execution_count": 1,
   "metadata": {
    "collapsed": true
   },
   "outputs": [],
   "source": [
    "# For query\n",
    "import sys   \n",
    "sys.path.append('../../src/data')\n",
    "import query_flights as query\n",
    "from datetime import date\n",
    "\n",
    "# Data Manipulation\n",
    "import pandas as pd\n",
    "import numpy as np\n",
    "\n",
    "# Visualization\n",
    "import matplotlib.pyplot as plt\n",
    "import seaborn as sns\n",
    "\n",
    "sns.set_style(\"whitegrid\")\n",
    "%matplotlib inline"
   ]
  },
  {
   "cell_type": "code",
   "execution_count": 2,
   "metadata": {},
   "outputs": [
    {
     "name": "stdout",
     "output_type": "stream",
     "text": [
      "airlines.db\r\n"
     ]
    }
   ],
   "source": [
    "ls ../../data/processed"
   ]
  },
  {
   "cell_type": "code",
   "execution_count": 3,
   "metadata": {},
   "outputs": [
    {
     "name": "stdout",
     "output_type": "stream",
     "text": [
      "Connecting to Database: sqlite:///../../data/processed/airlines.db\n"
     ]
    }
   ],
   "source": [
    "start_date = date(2016, 1, 1)\n",
    "end_date = date(2016, 12, 31)\n",
    "path_to_db = \"sqlite:///../../data/processed/airlines.db\"\n",
    "\n",
    "flights_2016 = query.flight_and_delay_summary_by_airport(start_date=start_date, \n",
    "                                                        end_date=end_date, \n",
    "                                                        path_to_db=path_to_db)"
   ]
  },
  {
   "cell_type": "code",
   "execution_count": 4,
   "metadata": {},
   "outputs": [
    {
     "name": "stdout",
     "output_type": "stream",
     "text": [
      "Of the 5,605,611 flights represented in the 2016 data, 927,298 (16.54%) were delayed.\n"
     ]
    }
   ],
   "source": [
    "total = sum(flights_2016['departure_count'])\n",
    "delayed = sum(flights_2016['delayed_count'])\n",
    "fraction_delayed = round(delayed / total * 100, 2)\n",
    "\n",
    "print(f\"Of the {total:,} flights represented in the 2016 data, {delayed:,} ({fraction_delayed}%) were delayed.\")"
   ]
  },
  {
   "cell_type": "code",
   "execution_count": 5,
   "metadata": {},
   "outputs": [
    {
     "name": "stdout",
     "output_type": "stream",
     "text": [
      "Connecting to Database: sqlite:///../../data/processed/airlines.db\n"
     ]
    }
   ],
   "source": [
    "start_date = date(2017, 1, 1)\n",
    "end_date = date(2017, 12, 31)\n",
    "path_to_db = \"sqlite:///../../data/processed/airlines.db\"\n",
    "\n",
    "flights_2017 = query.flight_and_delay_summary_by_airport(start_date=start_date, \n",
    "                                                        end_date=end_date, \n",
    "                                                        path_to_db=path_to_db)"
   ]
  },
  {
   "cell_type": "code",
   "execution_count": 6,
   "metadata": {},
   "outputs": [
    {
     "name": "stdout",
     "output_type": "stream",
     "text": [
      "Of the 5,661,600 flights represented in the 2017 data, 989,432 (17.48%) were delayed.\n"
     ]
    }
   ],
   "source": [
    "total = sum(flights_2017['departure_count'])\n",
    "delayed = sum(flights_2017['delayed_count'])\n",
    "fraction_delayed = round(delayed / total * 100, 2)\n",
    "\n",
    "print(f\"Of the {total:,} flights represented in the 2017 data, {delayed:,} ({fraction_delayed}%) were delayed.\")"
   ]
  },
  {
   "cell_type": "code",
   "execution_count": 7,
   "metadata": {},
   "outputs": [
    {
     "data": {
      "text/html": [
       "<div>\n",
       "<style>\n",
       "    .dataframe thead tr:only-child th {\n",
       "        text-align: right;\n",
       "    }\n",
       "\n",
       "    .dataframe thead th {\n",
       "        text-align: left;\n",
       "    }\n",
       "\n",
       "    .dataframe tbody tr th {\n",
       "        vertical-align: top;\n",
       "    }\n",
       "</style>\n",
       "<table border=\"1\" class=\"dataframe\">\n",
       "  <thead>\n",
       "    <tr style=\"text-align: right;\">\n",
       "      <th></th>\n",
       "      <th>airport_name</th>\n",
       "      <th>airport_code</th>\n",
       "      <th>departure_count</th>\n",
       "      <th>delayed_count</th>\n",
       "      <th>fraction_delayed</th>\n",
       "    </tr>\n",
       "  </thead>\n",
       "  <tbody>\n",
       "    <tr>\n",
       "      <th>20</th>\n",
       "      <td>Hartsfield-Jackson Atlanta International</td>\n",
       "      <td>ATL</td>\n",
       "      <td>363955</td>\n",
       "      <td>57742</td>\n",
       "      <td>6.303124</td>\n",
       "    </tr>\n",
       "    <tr>\n",
       "      <th>224</th>\n",
       "      <td>Chicago O'Hare International</td>\n",
       "      <td>ORD</td>\n",
       "      <td>265918</td>\n",
       "      <td>52474</td>\n",
       "      <td>5.067614</td>\n",
       "    </tr>\n",
       "    <tr>\n",
       "      <th>82</th>\n",
       "      <td>Denver International</td>\n",
       "      <td>DEN</td>\n",
       "      <td>222625</td>\n",
       "      <td>39659</td>\n",
       "      <td>5.613480</td>\n",
       "    </tr>\n",
       "    <tr>\n",
       "      <th>172</th>\n",
       "      <td>Los Angeles International</td>\n",
       "      <td>LAX</td>\n",
       "      <td>213769</td>\n",
       "      <td>45741</td>\n",
       "      <td>4.673466</td>\n",
       "    </tr>\n",
       "    <tr>\n",
       "      <th>83</th>\n",
       "      <td>Dallas/Fort Worth International</td>\n",
       "      <td>DFW</td>\n",
       "      <td>180771</td>\n",
       "      <td>35667</td>\n",
       "      <td>5.068298</td>\n",
       "    </tr>\n",
       "    <tr>\n",
       "      <th>275</th>\n",
       "      <td>San Francisco International</td>\n",
       "      <td>SFO</td>\n",
       "      <td>174223</td>\n",
       "      <td>41687</td>\n",
       "      <td>4.179312</td>\n",
       "    </tr>\n",
       "    <tr>\n",
       "      <th>236</th>\n",
       "      <td>Phoenix Sky Harbor International</td>\n",
       "      <td>PHX</td>\n",
       "      <td>154147</td>\n",
       "      <td>24162</td>\n",
       "      <td>6.379728</td>\n",
       "    </tr>\n",
       "    <tr>\n",
       "      <th>170</th>\n",
       "      <td>McCarran International</td>\n",
       "      <td>LAS</td>\n",
       "      <td>151365</td>\n",
       "      <td>29285</td>\n",
       "      <td>5.168687</td>\n",
       "    </tr>\n",
       "    <tr>\n",
       "      <th>274</th>\n",
       "      <td>Seattle/Tacoma International</td>\n",
       "      <td>SEA</td>\n",
       "      <td>136847</td>\n",
       "      <td>22954</td>\n",
       "      <td>5.961793</td>\n",
       "    </tr>\n",
       "    <tr>\n",
       "      <th>212</th>\n",
       "      <td>Minneapolis-St Paul International</td>\n",
       "      <td>MSP</td>\n",
       "      <td>134317</td>\n",
       "      <td>17832</td>\n",
       "      <td>7.532358</td>\n",
       "    </tr>\n",
       "    <tr>\n",
       "      <th>189</th>\n",
       "      <td>Orlando International</td>\n",
       "      <td>MCO</td>\n",
       "      <td>131633</td>\n",
       "      <td>24140</td>\n",
       "      <td>5.452900</td>\n",
       "    </tr>\n",
       "    <tr>\n",
       "      <th>147</th>\n",
       "      <td>George Bush Intercontinental/Houston</td>\n",
       "      <td>IAH</td>\n",
       "      <td>128969</td>\n",
       "      <td>18436</td>\n",
       "      <td>6.995498</td>\n",
       "    </tr>\n",
       "    <tr>\n",
       "      <th>89</th>\n",
       "      <td>Detroit Metro Wayne County</td>\n",
       "      <td>DTW</td>\n",
       "      <td>126375</td>\n",
       "      <td>19800</td>\n",
       "      <td>6.382576</td>\n",
       "    </tr>\n",
       "    <tr>\n",
       "      <th>39</th>\n",
       "      <td>Logan International</td>\n",
       "      <td>BOS</td>\n",
       "      <td>125186</td>\n",
       "      <td>25995</td>\n",
       "      <td>4.815772</td>\n",
       "    </tr>\n",
       "    <tr>\n",
       "      <th>102</th>\n",
       "      <td>Newark Liberty International</td>\n",
       "      <td>EWR</td>\n",
       "      <td>115712</td>\n",
       "      <td>28176</td>\n",
       "      <td>4.106758</td>\n",
       "    </tr>\n",
       "    <tr>\n",
       "      <th>66</th>\n",
       "      <td>Charlotte Douglas International</td>\n",
       "      <td>CLT</td>\n",
       "      <td>112840</td>\n",
       "      <td>20458</td>\n",
       "      <td>5.515691</td>\n",
       "    </tr>\n",
       "    <tr>\n",
       "      <th>283</th>\n",
       "      <td>Salt Lake City International</td>\n",
       "      <td>SLC</td>\n",
       "      <td>111658</td>\n",
       "      <td>14165</td>\n",
       "      <td>7.882669</td>\n",
       "    </tr>\n",
       "    <tr>\n",
       "      <th>51</th>\n",
       "      <td>Baltimore/Washington International Thurgood Ma...</td>\n",
       "      <td>BWI</td>\n",
       "      <td>100784</td>\n",
       "      <td>17046</td>\n",
       "      <td>5.912472</td>\n",
       "    </tr>\n",
       "    <tr>\n",
       "      <th>162</th>\n",
       "      <td>John F. Kennedy International</td>\n",
       "      <td>JFK</td>\n",
       "      <td>94217</td>\n",
       "      <td>22075</td>\n",
       "      <td>4.268041</td>\n",
       "    </tr>\n",
       "    <tr>\n",
       "      <th>178</th>\n",
       "      <td>LaGuardia</td>\n",
       "      <td>LGA</td>\n",
       "      <td>93137</td>\n",
       "      <td>19229</td>\n",
       "      <td>4.843570</td>\n",
       "    </tr>\n",
       "  </tbody>\n",
       "</table>\n",
       "</div>"
      ],
      "text/plain": [
       "                                          airport_name airport_code  \\\n",
       "20            Hartsfield-Jackson Atlanta International          ATL   \n",
       "224                       Chicago O'Hare International          ORD   \n",
       "82                                Denver International          DEN   \n",
       "172                          Los Angeles International          LAX   \n",
       "83                     Dallas/Fort Worth International          DFW   \n",
       "275                        San Francisco International          SFO   \n",
       "236                   Phoenix Sky Harbor International          PHX   \n",
       "170                             McCarran International          LAS   \n",
       "274                       Seattle/Tacoma International          SEA   \n",
       "212                  Minneapolis-St Paul International          MSP   \n",
       "189                              Orlando International          MCO   \n",
       "147               George Bush Intercontinental/Houston          IAH   \n",
       "89                          Detroit Metro Wayne County          DTW   \n",
       "39                                 Logan International          BOS   \n",
       "102                       Newark Liberty International          EWR   \n",
       "66                     Charlotte Douglas International          CLT   \n",
       "283                       Salt Lake City International          SLC   \n",
       "51   Baltimore/Washington International Thurgood Ma...          BWI   \n",
       "162                      John F. Kennedy International          JFK   \n",
       "178                                          LaGuardia          LGA   \n",
       "\n",
       "     departure_count  delayed_count  fraction_delayed  \n",
       "20            363955          57742          6.303124  \n",
       "224           265918          52474          5.067614  \n",
       "82            222625          39659          5.613480  \n",
       "172           213769          45741          4.673466  \n",
       "83            180771          35667          5.068298  \n",
       "275           174223          41687          4.179312  \n",
       "236           154147          24162          6.379728  \n",
       "170           151365          29285          5.168687  \n",
       "274           136847          22954          5.961793  \n",
       "212           134317          17832          7.532358  \n",
       "189           131633          24140          5.452900  \n",
       "147           128969          18436          6.995498  \n",
       "89            126375          19800          6.382576  \n",
       "39            125186          25995          4.815772  \n",
       "102           115712          28176          4.106758  \n",
       "66            112840          20458          5.515691  \n",
       "283           111658          14165          7.882669  \n",
       "51            100784          17046          5.912472  \n",
       "162            94217          22075          4.268041  \n",
       "178            93137          19229          4.843570  "
      ]
     },
     "execution_count": 7,
     "metadata": {},
     "output_type": "execute_result"
    }
   ],
   "source": [
    "flights_2017['fraction_delayed'] = flights_2017['departure_count'] / flights_2017['delayed_count']\n",
    "busiest_2017 = flights_2017.sort_values(by='departure_count', ascending=False).head(20)\n",
    "busiest_2017"
   ]
  },
  {
   "cell_type": "code",
   "execution_count": 8,
   "metadata": {},
   "outputs": [
    {
     "data": {
      "image/png": "[encoded data removed]",
      "text/plain": [
       "<matplotlib.figure.Figure at 0x11ad1f208>"
      ]
     },
     "metadata": {},
     "output_type": "display_data"
    }
   ],
   "source": [
    "a4_dims = (14, 5)\n",
    "fig, ax = plt.subplots(figsize=a4_dims)\n",
    "_ = sns.barplot(data=busiest_2017, x='airport_name', y='departure_count', ax=ax, color='#3b5b92')\n",
    "ax.get_yaxis().set_major_formatter(plt.FuncFormatter(lambda x, loc: \"{:,}\".format(int(x))))\n",
    "_ = plt.xlabel('Airport Code')\n",
    "_ = plt.xticks(rotation=90)\n",
    "_ = plt.ylabel('Departing Flights')\n",
    "_ = plt.title(f'Top {len(busiest_2017)} Airports By Departures (2017)')\n",
    "plt.show()"
   ]
  },
  {
   "cell_type": "code",
   "execution_count": null,
   "metadata": {
    "collapsed": true
   },
   "outputs": [],
   "source": []
  }
 ],
 "metadata": {
  "kernelspec": {
   "display_name": "Python 3",
   "language": "python",
   "name": "python3"
  },
  "language_info": {
   "codemirror_mode": {
    "name": "ipython",
    "version": 3
   },
   "file_extension": ".py",
   "mimetype": "text/x-python",
   "name": "python",
   "nbconvert_exporter": "python",
   "pygments_lexer": "ipython3",
   "version": "3.6.3"
  }
 },
 "nbformat": 4,
 "nbformat_minor": 2
}
